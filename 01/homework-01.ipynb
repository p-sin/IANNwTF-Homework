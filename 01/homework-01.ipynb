{
 "cells": [
  {
   "cell_type": "markdown",
   "metadata": {},
   "source": [
    "# Tensorflow Homework 01"
   ]
  },
  {
   "cell_type": "markdown",
   "metadata": {},
   "source": [
    "## 2.1 Objects and modules"
   ]
  },
  {
   "cell_type": "code",
   "execution_count": 16,
   "metadata": {},
   "outputs": [],
   "source": [
    "# cat.py\n",
    "from __future__ import annotations  # 3.10 <= python version\n",
    "\n",
    "class Cat:\n",
    "    def __init__(self, name: str):\n",
    "        self.name = name\n",
    "\n",
    "    def greet(self, other: Cat):\n",
    "        print(f\"Hello I am {self.name}! I see you are also a cool \" +\n",
    "              f\"fluffy kitty {other.name}, let’s together purr at \" +\n",
    "              \"the human, so that they shall give us food!\")"
   ]
  },
  {
   "cell_type": "code",
   "execution_count": 18,
   "metadata": {},
   "outputs": [
    {
     "name": "stdout",
     "output_type": "stream",
     "text": [
      "Hello I am Kittosaurus Rex! I see you are also a cool fluffy kitty Snowball IX, let’s together purr at the human, so that they shall give us food!\n"
     ]
    }
   ],
   "source": [
    "#from cat import Cat # (included in notebook)\n",
    "\n",
    "cat1: Cat = Cat(\"Kittosaurus Rex\")\n",
    "cat2: Cat = Cat(\"Snowball IX\")\n",
    "\n",
    "cat1.greet(cat2)"
   ]
  },
  {
   "cell_type": "markdown",
   "metadata": {},
   "source": [
    "## 2.2 List comprehension"
   ]
  },
  {
   "cell_type": "code",
   "execution_count": 19,
   "metadata": {},
   "outputs": [
    {
     "name": "stdout",
     "output_type": "stream",
     "text": [
      "Squares: [0, 1, 4, 9, 16, 25, 36, 49, 64, 81, 100, 121, 144, 169, 196, 225, 256, 289, 324, 361, 400, 441, 484, 529, 576, 625, 676, 729, 784, 841, 900, 961, 1024, 1089, 1156, 1225, 1296, 1369, 1444, 1521, 1600, 1681, 1764, 1849, 1936, 2025, 2116, 2209, 2304, 2401, 2500, 2601, 2704, 2809, 2916, 3025, 3136, 3249, 3364, 3481, 3600, 3721, 3844, 3969, 4096, 4225, 4356, 4489, 4624, 4761, 4900, 5041, 5184, 5329, 5476, 5625, 5776, 5929, 6084, 6241, 6400, 6561, 6724, 6889, 7056, 7225, 7396, 7569, 7744, 7921, 8100, 8281, 8464, 8649, 8836, 9025, 9216, 9409, 9604, 9801, 10000]\n",
      "Even Squares: [0, 4, 16, 36, 64, 100, 144, 196, 256, 324, 400, 484, 576, 676, 784, 900, 1024, 1156, 1296, 1444, 1600, 1764, 1936, 2116, 2304, 2500, 2704, 2916, 3136, 3364, 3600, 3844, 4096, 4356, 4624, 4900, 5184, 5476, 5776, 6084, 6400, 6724, 7056, 7396, 7744, 8100, 8464, 8836, 9216, 9604, 10000]\n"
     ]
    }
   ],
   "source": [
    "squares:      list = [x**2 for x in range(101)]\n",
    "even_squares: list = [x**2 for x in range(101) if x % 2 == 0]\n",
    "\n",
    "print(f\"Squares: {squares}\")\n",
    "print(f\"Even Squares: {even_squares}\")"
   ]
  },
  {
   "cell_type": "markdown",
   "metadata": {},
   "source": [
    "# 2.3 Generators"
   ]
  },
  {
   "cell_type": "code",
   "execution_count": 20,
   "metadata": {},
   "outputs": [
    {
     "name": "stdout",
     "output_type": "stream",
     "text": [
      "1 Meow \n",
      "2 Meow Meow \n",
      "3 Meow Meow Meow Meow \n",
      "4 Meow Meow Meow Meow Meow Meow Meow Meow \n"
     ]
    }
   ],
   "source": [
    "def meow():\n",
    "    n: int = 1\n",
    "    while True:\n",
    "        yield \"Meow \" * n\n",
    "        n *= 2\n",
    "\n",
    "meow_gen = meow()\n",
    "for i in range(1, 5):\n",
    "    print(i, next(meow_gen))"
   ]
  },
  {
   "cell_type": "markdown",
   "metadata": {},
   "source": [
    "## 3 Math\n",
    "\n",
    "\\begin{align*}\n",
    "f(x,z,a,b) := y \n",
    " &= (4ax^2 + a) + 3 + \\sigma(z) + \\sigma(b)^2 \\\\\n",
    " &= 4ax^2 + \\sigma(b)^2 + a + \\sigma(z) + 3\n",
    "\\end{align*}\n",
    "\n",
    "\\begin{align*}\n",
    "\\sigma(x) &= \\frac{1}{1+e^{-x}} \\\\\n",
    "\\frac{d}{dx} \\sigma(x) &= \\sigma(x) (1 - \\sigma(x)) = \\frac{e^{-x}}{(1 + e^{-x})^2}\n",
    "\\end{align*}"
   ]
  },
  {
   "cell_type": "markdown",
   "metadata": {},
   "source": [
    "\\begin{align*}\n",
    "\\frac{\\partial y}{\\partial x} \n",
    " &= \\frac{\\partial}{\\partial x} \\left[ 4ax^2 + \\sigma(b)^2 + a + \\sigma(z) + 3 \\right] \\\\\n",
    " &= \\frac{\\partial}{\\partial x} 4ax^2 + \\frac{\\partial}{\\partial x} \\sigma(b)^2 + \\frac{\\partial}{\\partial x} a + \\frac{\\partial}{\\partial x} \\sigma(z) + \\frac{\\partial}{\\partial x} 3 \\\\\n",
    " &= \\frac{\\partial}{\\partial x} 4ax^2 + 0 + 0 + 0 + 0 \\\\\n",
    " &= 4a \\frac{\\partial}{\\partial x} x^2 \\\\\n",
    " &= 4a \\cdot 2x \\\\\n",
    " &= 8ax\n",
    "\\end{align*}"
   ]
  },
  {
   "cell_type": "markdown",
   "metadata": {},
   "source": [
    "\\begin{align*}\n",
    "\\frac{\\partial y}{\\partial z} \n",
    " &= \\frac{\\partial}{\\partial z} \\left[ 4ax^2 + \\sigma(b)^2 + a + \\sigma(z) + 3 \\right] \\\\\n",
    " &= \\frac{\\partial}{\\partial z} 4ax^2 + \\frac{\\partial}{\\partial z} \\sigma(b)^2 + \\frac{\\partial}{\\partial z} a + \\frac{\\partial}{\\partial z} \\sigma(z) + \\frac{\\partial}{\\partial z} 3 \\\\\n",
    " &= 0 + 0 + 0 + \\frac{\\partial}{\\partial z} \\sigma(z) + 0 \\\\\n",
    " &= \\sigma(z)(1 - \\sigma(z)) \\\\\n",
    " &= \\frac{e^{-z}}{(1 + e^{-z})^2}\n",
    "\\end{align*}"
   ]
  },
  {
   "cell_type": "markdown",
   "metadata": {},
   "source": [
    "\\begin{align*}\n",
    "\\frac{\\partial y}{\\partial a} \n",
    " &= \\frac{\\partial}{\\partial a} \\left[ 4ax^2 + \\sigma(b)^2 + a + \\sigma(z) + 3 \\right] \\\\\n",
    " &= \\frac{\\partial}{\\partial a} 4ax^2 + \\frac{\\partial}{\\partial a} \\sigma(b)^2 + \\frac{\\partial}{\\partial a} a + \\frac{\\partial}{\\partial a} \\sigma(z) + \\frac{\\partial}{\\partial a} 3 \\\\\n",
    " &= 4x^2 \\frac{\\partial}{\\partial a} a + 0 + \\frac{\\partial}{\\partial a} a + 0 + 0 \\\\\n",
    " &= 4x^2 \\cdot 1 + 1 \\\\\n",
    " &= 4x^2 + 1\n",
    "\\end{align*}"
   ]
  },
  {
   "cell_type": "markdown",
   "metadata": {},
   "source": [
    "\\begin{align*}\n",
    "\\frac{\\partial y}{\\partial b} \n",
    " &= \\frac{\\partial}{\\partial b} \\left[ 4ax^2 + \\sigma(b)^2 + a + \\sigma(z) + 3 \\right] \\\\\n",
    " &= \\frac{\\partial}{\\partial b} 4ax^2 + \\frac{\\partial}{\\partial b} \\sigma(b)^2 + \\frac{\\partial}{\\partial b} a + \\frac{\\partial}{\\partial b} \\sigma(z) + \\frac{\\partial}{\\partial b} 3 \\\\\n",
    " &= 0 + \\frac{\\partial}{\\partial b} \\sigma(b)^2 + 0 + 0 + 0 \\\\\n",
    " &= \\frac{2 e^{-b}}{(1 + e^{-b})^3}\n",
    "\\end{align*}"
   ]
  },
  {
   "cell_type": "markdown",
   "metadata": {},
   "source": [
    "$$\\implies \\qquad \\nabla f = \\left[ 8ax,  \\frac{e^{-z}}{(1 + e^{-z})^2}, 4x^2 + 1, \\frac{2 e^{-b}}{(1 + e^{-b})^3} \\right] \\qquad \\square$$"
   ]
  }
 ],
 "metadata": {
  "kernelspec": {
   "display_name": "Python 3.10.8 64-bit",
   "language": "python",
   "name": "python3"
  },
  "language_info": {
   "codemirror_mode": {
    "name": "ipython",
    "version": 3
   },
   "file_extension": ".py",
   "mimetype": "text/x-python",
   "name": "python",
   "nbconvert_exporter": "python",
   "pygments_lexer": "ipython3",
   "version": "3.10.8"
  },
  "orig_nbformat": 4,
  "vscode": {
   "interpreter": {
    "hash": "e7370f93d1d0cde622a1f8e1c04877d8463912d04d973331ad4851f04de6915a"
   }
  }
 },
 "nbformat": 4,
 "nbformat_minor": 2
}
