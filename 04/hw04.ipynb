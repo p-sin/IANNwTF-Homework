{
 "cells": [
  {
   "cell_type": "code",
   "execution_count": 1,
   "metadata": {},
   "outputs": [
    {
     "name": "stderr",
     "output_type": "stream",
     "text": [
      "2022-11-29 22:40:56.750370: I tensorflow/core/platform/cpu_feature_guard.cc:193] This TensorFlow binary is optimized with oneAPI Deep Neural Network Library (oneDNN) to use the following CPU instructions in performance-critical operations:  SSE3 SSE4.1 SSE4.2 AVX AVX2 FMA\n",
      "To enable them in other operations, rebuild TensorFlow with the appropriate compiler flags.\n",
      "2022-11-29 22:41:00.075345: I tensorflow/core/platform/cpu_feature_guard.cc:193] This TensorFlow binary is optimized with oneAPI Deep Neural Network Library (oneDNN) to use the following CPU instructions in performance-critical operations:  SSE3 SSE4.1 SSE4.2 AVX AVX2 FMA\n",
      "To enable them in other operations, rebuild TensorFlow with the appropriate compiler flags.\n",
      "2022-11-29 22:41:00.076445: I tensorflow/core/common_runtime/process_util.cc:146] Creating new thread pool with default inter op setting: 2. Tune using inter_op_parallelism_threads for best performance.\n"
     ]
    }
   ],
   "source": [
    "import tensorflow as tf\n",
    "import tensorflow_datasets as tfds\n",
    "import numpy as np\n",
    "\n",
    "(ds_train, ds_test), ds_info = tfds.load('mnist', \n",
    "                                         split=['train', 'test'],\n",
    "                                         as_supervised=True,\n",
    "                                         with_info=True)"
   ]
  },
  {
   "cell_type": "code",
   "execution_count": 2,
   "metadata": {},
   "outputs": [],
   "source": [
    "\n",
    "def pipeline(ds, expression, batch_size=32):\n",
    "  ds = ds.map(lambda img, label: (tf.cast(img, float), label))\n",
    "  ds = ds.map(lambda img, label: (tf.reshape(img, [-1]), label))\n",
    "  ds = ds.map(lambda img, label: (img / 128.0 - 1.0, label))\n",
    "  \n",
    "  zip_ds = tf.data.Dataset.zip((ds.shuffle(2000), ds.shuffle(2000)))\n",
    "  zip_ds = zip_ds.map(lambda x1, x2: (x1[0], x2[0], expression(x1[1], x2[1])))\n",
    "  zip_ds = zip_ds.cache()\n",
    "  zip_ds = zip_ds.batch(batch_size)\n",
    "  zip_ds = zip_ds.prefetch(tf.data.AUTOTUNE)\n",
    "  return zip_ds\n"
   ]
  },
  {
   "cell_type": "code",
   "execution_count": 7,
   "metadata": {},
   "outputs": [],
   "source": [
    "class MNISTMath(tf.keras.Model):\n",
    "  def __init__(self, layer_list, optimizer, loss_fn, out_layer):\n",
    "    super().__init__()\n",
    "    \n",
    "    self.metrics_list = [tf.keras.metrics.CategoricalAccuracy(name='categorical_accuracy'),\n",
    "                         tf.keras.metrics.BinaryAccuracy(name='binary_accuracy'),\n",
    "                         tf.keras.metrics.Mean(name='loss')]\n",
    "    \n",
    "    self.optimizer = optimizer\n",
    "    self.loss_fn = loss_fn\n",
    "    \n",
    "    self.layer_list = [tf.keras.layers.Dense(layer_size, activation='relu') for layer_size in layer_list]\n",
    "    #self.midlayer = tf.keras.layers.Dense(256, activation='relu')\n",
    "    self.out_layer = out_layer\n",
    "    \n",
    "  def call(self, x, training=False):\n",
    "    img1, img2 = x\n",
    "    \n",
    "    for layer in self.layer_list:\n",
    "      img1 = layer(img1)\n",
    "      img2 = layer(img2)\n",
    "      \n",
    "    x = tf.concat((img1, img2), axis=1)\n",
    "    #x = self.midlayer(x)\n",
    "            \n",
    "    return self.out_layer(x)\n",
    "  \n",
    "  def reset_metrics(self):\n",
    "    for metric in self.metrics:\n",
    "      metric.reset_states()\n",
    "      \n",
    "  #@tf.function\n",
    "  def train_step(self, data):\n",
    "    img1, img2, label = data\n",
    "    \n",
    "    with tf.GradientTape() as tape:\n",
    "      output = self((img1, img2), training=True)\n",
    "      loss = self.loss_fn(label, output)\n",
    "    \n",
    "    grads = tape.gradient(loss, self.trainable_variables)\n",
    "    self.optimizer.apply_gradients(zip(grads, self.trainable_variables))\n",
    "    \n",
    "    self.metrics[0].update_state(label, output)\n",
    "    self.metrics[1].update_state(label, output)\n",
    "    self.metrics[2].update_state(loss)\n",
    "    \n",
    "    return {m.name: m.result() for m in self.metrics}\n",
    "  \n",
    "  @tf.function\n",
    "  def test_step(self, data):\n",
    "    img1, img2, label = data\n",
    "    \n",
    "    output = self((img1, img2), training=False)\n",
    "    loss = self.loss_fn(label, output)\n",
    "    \n",
    "    self.metrics[0].update_state(label, output)\n",
    "    self.metrics[1].update_state(label, output)\n",
    "    self.metrics[2].update_state(loss)\n",
    "    \n",
    "    return {m.name: m.result() for m in self.metrics}"
   ]
  },
  {
   "cell_type": "code",
   "execution_count": 8,
   "metadata": {},
   "outputs": [],
   "source": [
    "import tqdm\n",
    "\n",
    "def training_loop(model, ds_train, ds_test, epochs):\n",
    "  train_metrics = {m.name: [] for m in model.metrics}\n",
    "  test_metrics = {m.name: [] for m in model.metrics}\n",
    "  \n",
    "  for epoch in range(epochs):\n",
    "    print(f'Epoch {epoch + 1}')\n",
    "    for data in tqdm.tqdm(ds_train, position=0, leave=True):\n",
    "      metrics = model.train_step(data)\n",
    "    \n",
    "    print([f'train_{k}: {v.numpy():.4f}' for k, v in metrics.items()])\n",
    "    for key, value in metrics.items():\n",
    "      train_metrics[key].append(value.numpy())\n",
    "    model.reset_metrics()\n",
    "\n",
    "    for data in ds_test:\n",
    "      metrics = model.test_step(data)\n",
    "      \n",
    "    print([f'test_{k}: {v.numpy():.4f}' for k, v in metrics.items()])\n",
    "    for key, value in metrics.items():\n",
    "      test_metrics[key].append(value.numpy())\n",
    "    model.reset_metrics()\n",
    "    \n",
    "  return train_metrics, test_metrics"
   ]
  },
  {
   "cell_type": "markdown",
   "metadata": {},
   "source": [
    "### Preparing data for subtask 1"
   ]
  },
  {
   "cell_type": "code",
   "execution_count": 15,
   "metadata": {},
   "outputs": [],
   "source": [
    "subtask_1 = lambda x1, x2: tf.cast(x1 + x2 >= 5, tf.int32)\n",
    "ds_train_1 = pipeline(ds_train, subtask_1)\n",
    "ds_test_1 = pipeline(ds_test, subtask_1)"
   ]
  },
  {
   "cell_type": "markdown",
   "metadata": {},
   "source": [
    "#### Subtask 1 using Adam optimizer"
   ]
  },
  {
   "cell_type": "code",
   "execution_count": 16,
   "metadata": {},
   "outputs": [
    {
     "name": "stdout",
     "output_type": "stream",
     "text": [
      "Epoch 1\n"
     ]
    },
    {
     "name": "stderr",
     "output_type": "stream",
     "text": [
      "100%|██████████| 1875/1875 [01:23<00:00, 22.36it/s]\n"
     ]
    },
    {
     "name": "stdout",
     "output_type": "stream",
     "text": [
      "['train_categorical_accuracy: 0.0389', 'train_binary_accuracy: 0.9268', 'train_loss: 0.1846']\n",
      "['test_categorical_accuracy: 0.0543', 'test_binary_accuracy: 0.9468', 'test_loss: 0.1368']\n",
      "Epoch 2\n"
     ]
    },
    {
     "name": "stderr",
     "output_type": "stream",
     "text": [
      "100%|██████████| 1875/1875 [01:40<00:00, 18.57it/s]\n"
     ]
    },
    {
     "name": "stdout",
     "output_type": "stream",
     "text": [
      "['train_categorical_accuracy: 0.0949', 'train_binary_accuracy: 0.9528', 'train_loss: 0.1238']\n",
      "['test_categorical_accuracy: 0.2364', 'test_binary_accuracy: 0.9584', 'test_loss: 0.1226']\n",
      "Epoch 3\n"
     ]
    },
    {
     "name": "stderr",
     "output_type": "stream",
     "text": [
      "100%|██████████| 1875/1875 [01:33<00:00, 19.96it/s]\n"
     ]
    },
    {
     "name": "stdout",
     "output_type": "stream",
     "text": [
      "['train_categorical_accuracy: 0.1723', 'train_binary_accuracy: 0.9610', 'train_loss: 0.1063']\n",
      "['test_categorical_accuracy: 0.2780', 'test_binary_accuracy: 0.9607', 'test_loss: 0.1168']\n",
      "Epoch 4\n"
     ]
    },
    {
     "name": "stderr",
     "output_type": "stream",
     "text": [
      "100%|██████████| 1875/1875 [01:18<00:00, 23.99it/s]\n"
     ]
    },
    {
     "name": "stdout",
     "output_type": "stream",
     "text": [
      "['train_categorical_accuracy: 0.2485', 'train_binary_accuracy: 0.9665', 'train_loss: 0.0962']\n",
      "['test_categorical_accuracy: 0.3482', 'test_binary_accuracy: 0.9693', 'test_loss: 0.1097']\n",
      "Epoch 5\n"
     ]
    },
    {
     "name": "stderr",
     "output_type": "stream",
     "text": [
      "100%|██████████| 1875/1875 [01:30<00:00, 20.69it/s]\n"
     ]
    },
    {
     "name": "stdout",
     "output_type": "stream",
     "text": [
      "['train_categorical_accuracy: 0.3067', 'train_binary_accuracy: 0.9698', 'train_loss: 0.0888']\n",
      "['test_categorical_accuracy: 0.3706', 'test_binary_accuracy: 0.9652', 'test_loss: 0.1162']\n"
     ]
    }
   ],
   "source": [
    "out_layer = tf.keras.layers.Dense(1, activation=tf.nn.sigmoid)\n",
    "loss_fn   = tf.keras.losses.BinaryCrossentropy()\n",
    "optimizer = tf.keras.optimizers.Adam()\n",
    "\n",
    "model_1_adam = MNISTMath([128, 128], optimizer, loss_fn, out_layer)\n",
    "\n",
    "train_metrics_1_adam, test_metrics_1_adam = training_loop(model_1_adam, ds_train_1, ds_test_1, 5)"
   ]
  },
  {
   "cell_type": "markdown",
   "metadata": {},
   "source": [
    "#### Subtask 1 using SGD optimizer"
   ]
  },
  {
   "cell_type": "code",
   "execution_count": 17,
   "metadata": {},
   "outputs": [
    {
     "name": "stdout",
     "output_type": "stream",
     "text": [
      "Epoch 1\n"
     ]
    },
    {
     "name": "stderr",
     "output_type": "stream",
     "text": [
      "100%|██████████| 1875/1875 [01:05<00:00, 28.67it/s]\n"
     ]
    },
    {
     "name": "stdout",
     "output_type": "stream",
     "text": [
      "['train_categorical_accuracy: 0.0411', 'train_binary_accuracy: 0.9265', 'train_loss: 0.1857']\n",
      "['test_categorical_accuracy: 0.0575', 'test_binary_accuracy: 0.9514', 'test_loss: 0.1376']\n",
      "Epoch 2\n"
     ]
    },
    {
     "name": "stderr",
     "output_type": "stream",
     "text": [
      "100%|██████████| 1875/1875 [01:09<00:00, 26.83it/s]\n"
     ]
    },
    {
     "name": "stdout",
     "output_type": "stream",
     "text": [
      "['train_categorical_accuracy: 0.1003', 'train_binary_accuracy: 0.9538', 'train_loss: 0.1243']\n",
      "['test_categorical_accuracy: 0.1789', 'test_binary_accuracy: 0.9596', 'test_loss: 0.1206']\n",
      "Epoch 3\n"
     ]
    },
    {
     "name": "stderr",
     "output_type": "stream",
     "text": [
      "100%|██████████| 1875/1875 [01:15<00:00, 24.77it/s]\n"
     ]
    },
    {
     "name": "stdout",
     "output_type": "stream",
     "text": [
      "['train_categorical_accuracy: 0.1765', 'train_binary_accuracy: 0.9624', 'train_loss: 0.1069']\n",
      "['test_categorical_accuracy: 0.2780', 'test_binary_accuracy: 0.9660', 'test_loss: 0.1123']\n",
      "Epoch 4\n"
     ]
    },
    {
     "name": "stderr",
     "output_type": "stream",
     "text": [
      "100%|██████████| 1875/1875 [01:17<00:00, 24.28it/s]\n"
     ]
    },
    {
     "name": "stdout",
     "output_type": "stream",
     "text": [
      "['train_categorical_accuracy: 0.2368', 'train_binary_accuracy: 0.9668', 'train_loss: 0.0978']\n",
      "['test_categorical_accuracy: 0.3035', 'test_binary_accuracy: 0.9653', 'test_loss: 0.1140']\n",
      "Epoch 5\n"
     ]
    },
    {
     "name": "stderr",
     "output_type": "stream",
     "text": [
      "100%|██████████| 1875/1875 [01:13<00:00, 25.50it/s]\n"
     ]
    },
    {
     "name": "stdout",
     "output_type": "stream",
     "text": [
      "['train_categorical_accuracy: 0.2795', 'train_binary_accuracy: 0.9705', 'train_loss: 0.0902']\n",
      "['test_categorical_accuracy: 0.3514', 'test_binary_accuracy: 0.9674', 'test_loss: 0.1081']\n"
     ]
    }
   ],
   "source": [
    "out_layer = tf.keras.layers.Dense(1, activation=tf.nn.sigmoid)\n",
    "loss_fn   = tf.keras.losses.BinaryCrossentropy()\n",
    "optimizer = tf.keras.optimizers.Adam()\n",
    "\n",
    "model_1_sgd = MNISTMath([128, 128], optimizer, loss_fn, out_layer)\n",
    "\n",
    "train_metrics_1_sgd, test_metrics_1_sgd = training_loop(model_1_sgd, ds_train_1, ds_test_1, 5)"
   ]
  },
  {
   "cell_type": "markdown",
   "metadata": {},
   "source": [
    "### Preparing the data for subtask 2"
   ]
  },
  {
   "cell_type": "code",
   "execution_count": null,
   "metadata": {},
   "outputs": [],
   "source": [
    "subtask_2 = lambda x1, x2: tf.one_hot(x1 - x2, depth=19)\n",
    "ds_train_2 = pipeline(ds_train, subtask_2)\n",
    "ds_test_2 = pipeline(ds_test, subtask_2)"
   ]
  },
  {
   "cell_type": "markdown",
   "metadata": {},
   "source": [
    "#### Subtask 2 using Adam optimizer"
   ]
  },
  {
   "cell_type": "code",
   "execution_count": 11,
   "metadata": {},
   "outputs": [
    {
     "name": "stdout",
     "output_type": "stream",
     "text": [
      "Epoch 1\n"
     ]
    },
    {
     "name": "stderr",
     "output_type": "stream",
     "text": [
      "100%|██████████| 1875/1875 [01:16<00:00, 24.39it/s]\n"
     ]
    },
    {
     "name": "stdout",
     "output_type": "stream",
     "text": [
      "['train_categorical_accuracy: 0.5361', 'train_binary_accuracy: 0.9586', 'train_loss: 0.9398']\n",
      "['test_categorical_accuracy: 0.6559', 'test_binary_accuracy: 0.9561', 'test_loss: 0.7735']\n",
      "Epoch 2\n"
     ]
    },
    {
     "name": "stderr",
     "output_type": "stream",
     "text": [
      "100%|██████████| 1875/1875 [01:23<00:00, 22.37it/s]\n"
     ]
    },
    {
     "name": "stdout",
     "output_type": "stream",
     "text": [
      "['train_categorical_accuracy: 0.6701', 'train_binary_accuracy: 0.9548', 'train_loss: 0.7572']\n",
      "['test_categorical_accuracy: 0.7114', 'test_binary_accuracy: 0.9545', 'test_loss: 0.7036']\n",
      "Epoch 3\n"
     ]
    },
    {
     "name": "stderr",
     "output_type": "stream",
     "text": [
      "100%|██████████| 1875/1875 [01:25<00:00, 21.90it/s]\n"
     ]
    },
    {
     "name": "stdout",
     "output_type": "stream",
     "text": [
      "['train_categorical_accuracy: 0.7185', 'train_binary_accuracy: 0.9553', 'train_loss: 0.6936']\n",
      "['test_categorical_accuracy: 0.7352', 'test_binary_accuracy: 0.9556', 'test_loss: 0.6970']\n",
      "Epoch 4\n"
     ]
    },
    {
     "name": "stderr",
     "output_type": "stream",
     "text": [
      "100%|██████████| 1875/1875 [01:23<00:00, 22.37it/s]\n"
     ]
    },
    {
     "name": "stdout",
     "output_type": "stream",
     "text": [
      "['train_categorical_accuracy: 0.7488', 'train_binary_accuracy: 0.9561', 'train_loss: 0.6464']\n",
      "['test_categorical_accuracy: 0.7553', 'test_binary_accuracy: 0.9563', 'test_loss: 0.6588']\n",
      "Epoch 5\n"
     ]
    },
    {
     "name": "stderr",
     "output_type": "stream",
     "text": [
      "100%|██████████| 1875/1875 [01:25<00:00, 22.03it/s]\n"
     ]
    },
    {
     "name": "stdout",
     "output_type": "stream",
     "text": [
      "['train_categorical_accuracy: 0.7698', 'train_binary_accuracy: 0.9569', 'train_loss: 0.6124']\n",
      "['test_categorical_accuracy: 0.7662', 'test_binary_accuracy: 0.9570', 'test_loss: 0.6581']\n",
      "Epoch 6\n"
     ]
    },
    {
     "name": "stderr",
     "output_type": "stream",
     "text": [
      "100%|██████████| 1875/1875 [01:24<00:00, 22.07it/s]\n"
     ]
    },
    {
     "name": "stdout",
     "output_type": "stream",
     "text": [
      "['train_categorical_accuracy: 0.7822', 'train_binary_accuracy: 0.9575', 'train_loss: 0.5902']\n",
      "['test_categorical_accuracy: 0.7839', 'test_binary_accuracy: 0.9579', 'test_loss: 0.6442']\n",
      "Epoch 7\n"
     ]
    },
    {
     "name": "stderr",
     "output_type": "stream",
     "text": [
      "100%|██████████| 1875/1875 [01:23<00:00, 22.38it/s]\n"
     ]
    },
    {
     "name": "stdout",
     "output_type": "stream",
     "text": [
      "['train_categorical_accuracy: 0.7950', 'train_binary_accuracy: 0.9580', 'train_loss: 0.5698']\n",
      "['test_categorical_accuracy: 0.7913', 'test_binary_accuracy: 0.9577', 'test_loss: 0.6555']\n",
      "Epoch 8\n"
     ]
    },
    {
     "name": "stderr",
     "output_type": "stream",
     "text": [
      "100%|██████████| 1875/1875 [01:23<00:00, 22.33it/s]\n"
     ]
    },
    {
     "name": "stdout",
     "output_type": "stream",
     "text": [
      "['train_categorical_accuracy: 0.8061', 'train_binary_accuracy: 0.9587', 'train_loss: 0.5475']\n",
      "['test_categorical_accuracy: 0.8021', 'test_binary_accuracy: 0.9587', 'test_loss: 0.6501']\n",
      "Epoch 9\n"
     ]
    },
    {
     "name": "stderr",
     "output_type": "stream",
     "text": [
      "100%|██████████| 1875/1875 [01:23<00:00, 22.53it/s]\n"
     ]
    },
    {
     "name": "stdout",
     "output_type": "stream",
     "text": [
      "['train_categorical_accuracy: 0.8151', 'train_binary_accuracy: 0.9593', 'train_loss: 0.5353']\n",
      "['test_categorical_accuracy: 0.8079', 'test_binary_accuracy: 0.9593', 'test_loss: 0.6630']\n",
      "Epoch 10\n"
     ]
    },
    {
     "name": "stderr",
     "output_type": "stream",
     "text": [
      "100%|██████████| 1875/1875 [01:28<00:00, 21.16it/s]\n"
     ]
    },
    {
     "name": "stdout",
     "output_type": "stream",
     "text": [
      "['train_categorical_accuracy: 0.8278', 'train_binary_accuracy: 0.9602', 'train_loss: 0.5115']\n",
      "['test_categorical_accuracy: 0.8086', 'test_binary_accuracy: 0.9593', 'test_loss: 0.6572']\n"
     ]
    }
   ],
   "source": [
    "# seed for reproducible results\n",
    "tf.keras.utils.set_random_seed(133742069)\n",
    "\n",
    "out_layer = tf.keras.layers.Dense(19, activation=tf.nn.softmax)\n",
    "optimizer = tf.keras.optimizers.Adam()\n",
    "loss_fn = tf.keras.losses.CategoricalCrossentropy()\n",
    "\n",
    "model_2_adam = MNISTMath([128, 128, 128], optimizer, loss_fn, out_layer)\n",
    "\n",
    "test_metrics_2_adam, train_metrics_2_adam = training_loop(model_2_adam, ds_train_2, ds_test_2, 10)"
   ]
  },
  {
   "cell_type": "markdown",
   "metadata": {},
   "source": [
    "#### Subtask 2 using SGD optimizer"
   ]
  },
  {
   "cell_type": "code",
   "execution_count": 14,
   "metadata": {},
   "outputs": [
    {
     "name": "stdout",
     "output_type": "stream",
     "text": [
      "Epoch 1\n"
     ]
    },
    {
     "name": "stderr",
     "output_type": "stream",
     "text": [
      "100%|██████████| 1875/1875 [01:00<00:00, 30.83it/s]\n"
     ]
    },
    {
     "name": "stdout",
     "output_type": "stream",
     "text": [
      "['train_categorical_accuracy: 0.4204', 'train_binary_accuracy: 0.9654', 'train_loss: 1.0966']\n",
      "['test_categorical_accuracy: 0.5322', 'test_binary_accuracy: 0.9606', 'test_loss: 0.9838']\n",
      "Epoch 2\n"
     ]
    },
    {
     "name": "stderr",
     "output_type": "stream",
     "text": [
      "100%|██████████| 1875/1875 [01:05<00:00, 28.53it/s]\n"
     ]
    },
    {
     "name": "stdout",
     "output_type": "stream",
     "text": [
      "['train_categorical_accuracy: 0.5240', 'train_binary_accuracy: 0.9586', 'train_loss: 0.9527']\n",
      "['test_categorical_accuracy: 0.5920', 'test_binary_accuracy: 0.9568', 'test_loss: 0.8876']\n",
      "Epoch 3\n"
     ]
    },
    {
     "name": "stderr",
     "output_type": "stream",
     "text": [
      "100%|██████████| 1875/1875 [01:06<00:00, 28.05it/s]\n"
     ]
    },
    {
     "name": "stdout",
     "output_type": "stream",
     "text": [
      "['train_categorical_accuracy: 0.5889', 'train_binary_accuracy: 0.9557', 'train_loss: 0.8666']\n",
      "['test_categorical_accuracy: 0.6337', 'test_binary_accuracy: 0.9541', 'test_loss: 0.8176']\n",
      "Epoch 4\n"
     ]
    },
    {
     "name": "stderr",
     "output_type": "stream",
     "text": [
      "100%|██████████| 1875/1875 [01:00<00:00, 30.76it/s]\n"
     ]
    },
    {
     "name": "stdout",
     "output_type": "stream",
     "text": [
      "['train_categorical_accuracy: 0.6296', 'train_binary_accuracy: 0.9542', 'train_loss: 0.8034']\n",
      "['test_categorical_accuracy: 0.6642', 'test_binary_accuracy: 0.9533', 'test_loss: 0.7701']\n",
      "Epoch 5\n"
     ]
    },
    {
     "name": "stderr",
     "output_type": "stream",
     "text": [
      "100%|██████████| 1875/1875 [01:07<00:00, 27.60it/s]\n"
     ]
    },
    {
     "name": "stdout",
     "output_type": "stream",
     "text": [
      "['train_categorical_accuracy: 0.6599', 'train_binary_accuracy: 0.9538', 'train_loss: 0.7567']\n",
      "['test_categorical_accuracy: 0.6828', 'test_binary_accuracy: 0.9530', 'test_loss: 0.7380']\n",
      "Epoch 6\n"
     ]
    },
    {
     "name": "stderr",
     "output_type": "stream",
     "text": [
      "100%|██████████| 1875/1875 [01:13<00:00, 25.59it/s]\n"
     ]
    },
    {
     "name": "stdout",
     "output_type": "stream",
     "text": [
      "['train_categorical_accuracy: 0.6826', 'train_binary_accuracy: 0.9537', 'train_loss: 0.7201']\n",
      "['test_categorical_accuracy: 0.6964', 'test_binary_accuracy: 0.9528', 'test_loss: 0.7128']\n",
      "Epoch 7\n"
     ]
    },
    {
     "name": "stderr",
     "output_type": "stream",
     "text": [
      "100%|██████████| 1875/1875 [01:13<00:00, 25.39it/s]\n"
     ]
    },
    {
     "name": "stdout",
     "output_type": "stream",
     "text": [
      "['train_categorical_accuracy: 0.7016', 'train_binary_accuracy: 0.9540', 'train_loss: 0.6905']\n",
      "['test_categorical_accuracy: 0.7071', 'test_binary_accuracy: 0.9529', 'test_loss: 0.6952']\n",
      "Epoch 8\n"
     ]
    },
    {
     "name": "stderr",
     "output_type": "stream",
     "text": [
      "100%|██████████| 1875/1875 [01:14<00:00, 25.22it/s]\n"
     ]
    },
    {
     "name": "stdout",
     "output_type": "stream",
     "text": [
      "['train_categorical_accuracy: 0.7160', 'train_binary_accuracy: 0.9543', 'train_loss: 0.6645']\n",
      "['test_categorical_accuracy: 0.7191', 'test_binary_accuracy: 0.9529', 'test_loss: 0.6819']\n",
      "Epoch 9\n"
     ]
    },
    {
     "name": "stderr",
     "output_type": "stream",
     "text": [
      "100%|██████████| 1875/1875 [01:16<00:00, 24.56it/s]\n"
     ]
    },
    {
     "name": "stdout",
     "output_type": "stream",
     "text": [
      "['train_categorical_accuracy: 0.7303', 'train_binary_accuracy: 0.9546', 'train_loss: 0.6420']\n",
      "['test_categorical_accuracy: 0.7307', 'test_binary_accuracy: 0.9532', 'test_loss: 0.6685']\n",
      "Epoch 10\n"
     ]
    },
    {
     "name": "stderr",
     "output_type": "stream",
     "text": [
      "100%|██████████| 1875/1875 [01:00<00:00, 30.93it/s]\n"
     ]
    },
    {
     "name": "stdout",
     "output_type": "stream",
     "text": [
      "['train_categorical_accuracy: 0.7424', 'train_binary_accuracy: 0.9549', 'train_loss: 0.6216']\n",
      "['test_categorical_accuracy: 0.7371', 'test_binary_accuracy: 0.9532', 'test_loss: 0.6623']\n"
     ]
    }
   ],
   "source": [
    "# seed for reproducible results\n",
    "tf.keras.utils.set_random_seed(133742069)\n",
    "\n",
    "out_layer = tf.keras.layers.Dense(19, activation=tf.nn.softmax)\n",
    "optimizer = tf.keras.optimizers.SGD()\n",
    "loss_fn = tf.keras.losses.CategoricalCrossentropy()\n",
    "\n",
    "model_2_sgd = MNISTMath([128, 128, 128], optimizer, loss_fn, out_layer)\n",
    "\n",
    "test_metrics_2_sgd, train_metrics_2_sgd = training_loop(model_2_sgd, ds_train_2, ds_test_2, 10)"
   ]
  },
  {
   "cell_type": "code",
   "execution_count": null,
   "metadata": {},
   "outputs": [],
   "source": []
  }
 ],
 "metadata": {
  "kernelspec": {
   "display_name": "Python 3.10.8 64-bit",
   "language": "python",
   "name": "python3"
  },
  "language_info": {
   "codemirror_mode": {
    "name": "ipython",
    "version": 3
   },
   "file_extension": ".py",
   "mimetype": "text/x-python",
   "name": "python",
   "nbconvert_exporter": "python",
   "pygments_lexer": "ipython3",
   "version": "3.10.8"
  },
  "orig_nbformat": 4,
  "vscode": {
   "interpreter": {
    "hash": "e7370f93d1d0cde622a1f8e1c04877d8463912d04d973331ad4851f04de6915a"
   }
  }
 },
 "nbformat": 4,
 "nbformat_minor": 2
}
