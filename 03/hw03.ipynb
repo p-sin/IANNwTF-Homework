{
 "cells": [
  {
   "cell_type": "code",
   "execution_count": 136,
   "metadata": {},
   "outputs": [
    {
     "name": "stdout",
     "output_type": "stream",
     "text": [
      "The tensorboard extension is already loaded. To reload it, use:\n",
      "  %reload_ext tensorboard\n"
     ]
    }
   ],
   "source": [
    "import datetime\n",
    "\n",
    "import tensorflow_datasets as tfds\n",
    "import tensorflow as tf\n",
    "\n",
    "(ds_train, ds_test), ds_info = tfds.load('mnist',\n",
    "                                         split=['train', 'test'],\n",
    "                                         as_supervised=True,\n",
    "                                         with_info=True)\n",
    "\n",
    "\n",
    "%load_ext tensorboard"
   ]
  },
  {
   "cell_type": "code",
   "execution_count": 137,
   "metadata": {},
   "outputs": [
    {
     "data": {
      "text/plain": [
       "(60000, 10000, (28, 28, 1), tf.uint8)"
      ]
     },
     "execution_count": 137,
     "metadata": {},
     "output_type": "execute_result"
    }
   ],
   "source": [
    "sz_train = ds_info.splits['train'].num_examples\n",
    "sz_test = ds_info.splits['test'].num_examples\n",
    "img_shape = ds_info.features['image'].shape\n",
    "img_type = ds_info.features['image'].dtype\n",
    "\n",
    "sz_train, sz_test, img_shape, img_type"
   ]
  },
  {
   "cell_type": "markdown",
   "metadata": {},
   "source": [
    "- there are 60k training, 10k test samples, each image is 28x28 pixels, and each pixel has 1 byte = 0xFF = 255 possible values"
   ]
  },
  {
   "cell_type": "code",
   "execution_count": 138,
   "metadata": {},
   "outputs": [
    {
     "name": "stderr",
     "output_type": "stream",
     "text": [
      "2022-11-21 19:46:02.565376: W tensorflow/core/kernels/data/cache_dataset_ops.cc:856] The calling iterator did not fully read the dataset being cached. In order to avoid unexpected truncation of the dataset, the partially cached contents of the dataset  will be discarded. This can happen if you have an input pipeline similar to `dataset.cache().take(k).repeat()`. You should use `dataset.take(k).cache().repeat()` instead.\n"
     ]
    },
    {
     "data": {
      "image/png": "[encoded data removed]",
      "text/plain": [
       "<Figure size 900x900 with 9 Axes>"
      ]
     },
     "metadata": {},
     "output_type": "display_data"
    }
   ],
   "source": [
    "examples = tfds.show_examples(ds_train, ds_info)"
   ]
  },
  {
   "cell_type": "markdown",
   "metadata": {},
   "source": [
    "### 2.2 Setting up the data pipeline"
   ]
  },
  {
   "cell_type": "code",
   "execution_count": 139,
   "metadata": {},
   "outputs": [],
   "source": [
    "def pipeline(dataset):\n",
    "    return dataset.map(lambda img, label: (tf.reshape(tf.cast(img, tf.float32) / 128.0 - 1, [-1]),\n",
    "                                           tf.one_hot(label, 10, dtype=tf.float32)),\n",
    "                       num_parallel_calls=tf.data.AUTOTUNE)\\\n",
    "                  .batch(32)\\\n",
    "                  .prefetch(tf.data.AUTOTUNE)\\\n",
    "                  #.cache()\n",
    "\n",
    "\n",
    "ds_train_t = pipeline(ds_train)\n",
    "ds_test_t = pipeline(ds_test)"
   ]
  },
  {
   "cell_type": "markdown",
   "metadata": {},
   "source": [
    "### 2.3 Building deep neural network with TF"
   ]
  },
  {
   "cell_type": "code",
   "execution_count": 140,
   "metadata": {},
   "outputs": [],
   "source": [
    "class MNIST(tf.keras.Model):\n",
    "  def __init__(self, layers_list, metrics_list, optimizer, loss_fn):\n",
    "    super(MNIST, self).__init__()\n",
    "    self.layers_list = layers_list\n",
    "    self.metrics_list = metrics_list\n",
    "    self.optimizer = optimizer\n",
    "    self.loss_fn = loss_fn\n",
    "    \n",
    "  def reset_metrics(self):\n",
    "    for metric in self.metrics:\n",
    "      metric.reset_states()\n",
    "   \n",
    "  def call(self, x, training=False):\n",
    "    for layer in self.layers_list:\n",
    "      x = layer(x)\n",
    "    return x\n",
    "   \n",
    "  @tf.function\n",
    "  def train_step(self, data):\n",
    "    x, target = data\n",
    "    \n",
    "    with tf.GradientTape() as tape:\n",
    "      prediction = self(x, training=True)\n",
    "      loss = self.loss_fn(target, prediction)\n",
    "    \n",
    "    gradients = tape.gradient(loss, self.trainable_variables)\n",
    "    self.optimizer.apply_gradients(zip(gradients, self.trainable_variables))\n",
    "    \n",
    "    self.metrics[0].update_state(loss)\n",
    "    for metric in self.metrics[1:]:\n",
    "      metric.update_state(target, prediction)\n",
    "      \n",
    "    return {m.name: m.result() for m in self.metrics}\n",
    "     \n",
    "  @tf.function\n",
    "  def test_step(self, data):\n",
    "    x, target = data\n",
    "    prediction = self(x, training=False)\n",
    "    loss = self.loss_fn(target, prediction) + tf.reduce_sum(self.losses)\n",
    "    \n",
    "    self.metrics[0].update_state(loss)\n",
    "    for metric in self.metrics[1:]:\n",
    "      metric.update_state(target, prediction)\n",
    "    return {m.name: m.result() for m in self.metrics}"
   ]
  },
  {
   "cell_type": "markdown",
   "metadata": {},
   "source": [
    "### 2.4 Training the network"
   ]
  },
  {
   "cell_type": "code",
   "execution_count": 159,
   "metadata": {},
   "outputs": [
    {
     "name": "stdout",
     "output_type": "stream",
     "text": [
      "Model: \"mnist_34\"\n",
      "_________________________________________________________________\n",
      " Layer (type)                Output Shape              Param #   \n",
      "=================================================================\n",
      " dense_144 (Dense)           multiple                  615440    \n",
      "                                                                 \n",
      " dense_145 (Dense)           multiple                  200960    \n",
      "                                                                 \n",
      " dense_146 (Dense)           multiple                  65792     \n",
      "                                                                 \n",
      " dense_147 (Dense)           multiple                  2570      \n",
      "                                                                 \n",
      "=================================================================\n",
      "Total params: 884,768\n",
      "Trainable params: 884,762\n",
      "Non-trainable params: 6\n",
      "_________________________________________________________________\n"
     ]
    }
   ],
   "source": [
    "# set seed for reproducible/deterministic computations\n",
    "tf.keras.utils.set_random_seed(133742069)\n",
    "\n",
    "layers_list = [tf.keras.layers.Dense(784, activation='relu'),\n",
    "               tf.keras.layers.Dense(256, activation='relu'),\n",
    "               tf.keras.layers.Dense(256, activation='relu'),\n",
    "               tf.keras.layers.Dense(10)]\n",
    "\n",
    "metrics_list = [tf.keras.metrics.Mean(name='loss'),\n",
    "                tf.keras.metrics.CategoricalAccuracy(name='accuracy'),\n",
    "                tf.keras.metrics.MeanSquaredError(name='mse')]\n",
    "\n",
    "optimizer = tf.keras.optimizers.SGD(learning_rate=0.1)\n",
    "loss_fn   = tf.keras.losses.CategoricalCrossentropy(from_logits=True)\n",
    "\n",
    "model = MNIST(layers_list, metrics_list, optimizer, loss_fn)\n",
    "model(tf.keras.Input((784,)))\n",
    "model.summary()"
   ]
  },
  {
   "cell_type": "code",
   "execution_count": 160,
   "metadata": {},
   "outputs": [],
   "source": [
    "import tqdm\n",
    "import pprint\n",
    "\n",
    "def training_loop(model, train_ds, val_ds, epochs):\n",
    "  train_metrics = {m.name: [] for m in model.metrics}\n",
    "  val_metrics = {m.name: [] for m in model.metrics}\n",
    "  \n",
    "  for epoch in range(epochs):\n",
    "    print(f'Epoch {epoch}')\n",
    "    \n",
    "    # Training\n",
    "    \n",
    "    for data in tqdm.tqdm(train_ds, position=0, leave=True):\n",
    "      metrics = model.train_step(data)\n",
    "      \n",
    "    print([f'{key}: {value.numpy()}' for key, value in metrics.items()])\n",
    "    for key, value in metrics.items():\n",
    "      train_metrics[key].append(value.numpy())\n",
    "    model.reset_metrics()\n",
    "    \n",
    "    # Validation\n",
    "    \n",
    "    for data in val_ds:\n",
    "      metrics = model.test_step(data)\n",
    "      \n",
    "    print([f'val_{key}: {value.numpy()}' for key, value in metrics.items()])\n",
    "    for key, value in metrics.items():\n",
    "      val_metrics[key].append(value.numpy())\n",
    "    model.reset_metrics()\n",
    "    \n",
    "    print()\n",
    "  return train_metrics, val_metrics"
   ]
  },
  {
   "cell_type": "code",
   "execution_count": 161,
   "metadata": {},
   "outputs": [
    {
     "name": "stdout",
     "output_type": "stream",
     "text": [
      "Epoch 0\n"
     ]
    },
    {
     "name": "stderr",
     "output_type": "stream",
     "text": [
      "100%|██████████| 1875/1875 [00:26<00:00, 71.57it/s] \n"
     ]
    },
    {
     "name": "stdout",
     "output_type": "stream",
     "text": [
      "['loss: 0.3305595815181732', 'accuracy: 0.8940333127975464', 'mse: 10.84502124786377']\n",
      "['val_loss: 0.14721475541591644', 'val_accuracy: 0.9539999961853027', 'val_mse: 14.045801162719727']\n",
      "\n",
      "Epoch 1\n"
     ]
    },
    {
     "name": "stderr",
     "output_type": "stream",
     "text": [
      "100%|██████████| 1875/1875 [00:26<00:00, 70.49it/s]\n"
     ]
    },
    {
     "name": "stdout",
     "output_type": "stream",
     "text": [
      "['loss: 0.12484905123710632', 'accuracy: 0.9613500237464905', 'mse: 18.43893814086914']\n",
      "['val_loss: 0.1332063376903534', 'val_accuracy: 0.9571999907493591', 'val_mse: 19.85637092590332']\n",
      "\n",
      "Epoch 2\n"
     ]
    },
    {
     "name": "stderr",
     "output_type": "stream",
     "text": [
      "100%|██████████| 1875/1875 [00:27<00:00, 68.50it/s]\n"
     ]
    },
    {
     "name": "stdout",
     "output_type": "stream",
     "text": [
      "['loss: 0.08640887588262558', 'accuracy: 0.9733499884605408', 'mse: 24.549583435058594']\n",
      "['val_loss: 0.0888071358203888', 'val_accuracy: 0.9726999998092651', 'val_mse: 27.2496280670166']\n",
      "\n",
      "Epoch 3\n"
     ]
    },
    {
     "name": "stderr",
     "output_type": "stream",
     "text": [
      "100%|██████████| 1875/1875 [00:30<00:00, 61.15it/s]\n"
     ]
    },
    {
     "name": "stdout",
     "output_type": "stream",
     "text": [
      "['loss: 0.06352750211954117', 'accuracy: 0.9797666668891907', 'mse: 31.121129989624023']\n",
      "['val_loss: 0.08948526531457901', 'val_accuracy: 0.9731000065803528', 'val_mse: 32.48063659667969']\n",
      "\n",
      "Epoch 4\n"
     ]
    },
    {
     "name": "stderr",
     "output_type": "stream",
     "text": [
      "100%|██████████| 1875/1875 [00:32<00:00, 57.69it/s]\n"
     ]
    },
    {
     "name": "stdout",
     "output_type": "stream",
     "text": [
      "['loss: 0.053114134818315506', 'accuracy: 0.98294997215271', 'mse: 36.13847732543945']\n",
      "['val_loss: 0.08865614235401154', 'val_accuracy: 0.9725000262260437', 'val_mse: 39.97007369995117']\n",
      "\n",
      "Epoch 5\n"
     ]
    },
    {
     "name": "stderr",
     "output_type": "stream",
     "text": [
      "100%|██████████| 1875/1875 [00:29<00:00, 64.54it/s]\n"
     ]
    },
    {
     "name": "stdout",
     "output_type": "stream",
     "text": [
      "['loss: 0.04113871604204178', 'accuracy: 0.9866499900817871', 'mse: 43.40543746948242']\n",
      "['val_loss: 0.08535868674516678', 'val_accuracy: 0.9757000207901001', 'val_mse: 47.98802185058594']\n",
      "\n",
      "Epoch 6\n"
     ]
    },
    {
     "name": "stderr",
     "output_type": "stream",
     "text": [
      "100%|██████████| 1875/1875 [00:41<00:00, 45.65it/s]\n"
     ]
    },
    {
     "name": "stdout",
     "output_type": "stream",
     "text": [
      "['loss: 0.03669340908527374', 'accuracy: 0.9879166483879089', 'mse: 50.00462341308594']\n",
      "['val_loss: 0.08163280040025711', 'val_accuracy: 0.9763000011444092', 'val_mse: 50.57173538208008']\n",
      "\n",
      "Epoch 7\n"
     ]
    },
    {
     "name": "stderr",
     "output_type": "stream",
     "text": [
      "100%|██████████| 1875/1875 [00:28<00:00, 64.99it/s]\n"
     ]
    },
    {
     "name": "stdout",
     "output_type": "stream",
     "text": [
      "['loss: 0.029924197122454643', 'accuracy: 0.989633321762085', 'mse: 56.6245231628418']\n",
      "['val_loss: 0.08965082466602325', 'val_accuracy: 0.9772999882698059', 'val_mse: 66.21459197998047']\n",
      "\n",
      "Epoch 8\n"
     ]
    },
    {
     "name": "stderr",
     "output_type": "stream",
     "text": [
      "100%|██████████| 1875/1875 [00:29<00:00, 63.29it/s]\n"
     ]
    },
    {
     "name": "stdout",
     "output_type": "stream",
     "text": [
      "['loss: 0.031519755721092224', 'accuracy: 0.9896666407585144', 'mse: 64.5475082397461']\n",
      "['val_loss: 0.08883289247751236', 'val_accuracy: 0.9750000238418579', 'val_mse: 64.84587860107422']\n",
      "\n",
      "Epoch 9\n"
     ]
    },
    {
     "name": "stderr",
     "output_type": "stream",
     "text": [
      "100%|██████████| 1875/1875 [00:29<00:00, 62.65it/s]\n"
     ]
    },
    {
     "name": "stdout",
     "output_type": "stream",
     "text": [
      "['loss: 0.02582145854830742', 'accuracy: 0.9915333390235901', 'mse: 66.6207275390625']\n",
      "['val_loss: 0.08844226598739624', 'val_accuracy: 0.978600025177002', 'val_mse: 75.95411682128906']\n",
      "\n"
     ]
    }
   ],
   "source": [
    "epochs = 10\n",
    "\n",
    "train_metrics, val_metrics = training_loop(model, ds_train_t, ds_test_t, epochs)"
   ]
  },
  {
   "cell_type": "code",
   "execution_count": 163,
   "metadata": {},
   "outputs": [
    {
     "data": {
      "image/png": "[encoded data removed]",
      "text/plain": [
       "<Figure size 640x480 with 1 Axes>"
      ]
     },
     "metadata": {},
     "output_type": "display_data"
    }
   ],
   "source": [
    "import matplotlib.pyplot as plt\n",
    "import numpy as np\n",
    "\n",
    "def visualization(train_losses, train_accuracies, test_losses, test_accuracies ):\n",
    "  plt.figure()\n",
    "  line1, = plt.plot(train_losses , \"b-\")\n",
    "  line2, = plt.plot(test_losses , \"r-\")\n",
    "  line3, = plt.plot(train_accuracies , \"b:\")\n",
    "  line4, = plt.plot(test_accuracies , \"r:\")\n",
    "\n",
    "  plt.xlabel(\"Training steps\")\n",
    "  plt.ylabel(\"Loss/Accuracy\")\n",
    "  plt.legend((line1 , line2 , line3 , line4), \n",
    "             (\"training loss\", \"test loss\", \"train accuracy\", \"test accuracy\"))\n",
    "  plt.show()\n",
    "  \n",
    "visualization(train_metrics['loss'], \n",
    "              val_metrics['loss'], \n",
    "              train_metrics['accuracy'], \n",
    "              val_metrics['accuracy'])"
   ]
  },
  {
   "cell_type": "markdown",
   "metadata": {},
   "source": [
    "# 3 Adjusting the hyperparameters"
   ]
  },
  {
   "cell_type": "code",
   "execution_count": 169,
   "metadata": {},
   "outputs": [
    {
     "name": "stdout",
     "output_type": "stream",
     "text": [
      "Model: \"mnist_39\"\n",
      "_________________________________________________________________\n",
      " Layer (type)                Output Shape              Param #   \n",
      "=================================================================\n",
      " dense_166 (Dense)           multiple                  615440    \n",
      "                                                                 \n",
      " dense_167 (Dense)           multiple                  200960    \n",
      "                                                                 \n",
      " dense_168 (Dense)           multiple                  2570      \n",
      "                                                                 \n",
      "=================================================================\n",
      "Total params: 818,974\n",
      "Trainable params: 818,970\n",
      "Non-trainable params: 4\n",
      "_________________________________________________________________\n",
      "Epoch 0\n"
     ]
    },
    {
     "name": "stderr",
     "output_type": "stream",
     "text": [
      "100%|██████████| 1875/1875 [00:24<00:00, 76.57it/s]\n"
     ]
    },
    {
     "name": "stdout",
     "output_type": "stream",
     "text": [
      "['loss: 0.3050033450126648', 'accuracy: 0.9039333462715149']\n",
      "['val_loss: 0.15119042992591858', 'val_accuracy: 0.9496999979019165']\n",
      "\n",
      "Epoch 1\n"
     ]
    },
    {
     "name": "stderr",
     "output_type": "stream",
     "text": [
      "100%|██████████| 1875/1875 [00:27<00:00, 69.04it/s]\n"
     ]
    },
    {
     "name": "stdout",
     "output_type": "stream",
     "text": [
      "['loss: 0.11557621508836746', 'accuracy: 0.9640499949455261']\n",
      "['val_loss: 0.09537819027900696', 'val_accuracy: 0.9706000089645386']\n",
      "\n",
      "Epoch 2\n"
     ]
    },
    {
     "name": "stderr",
     "output_type": "stream",
     "text": [
      "100%|██████████| 1875/1875 [00:30<00:00, 61.37it/s]\n"
     ]
    },
    {
     "name": "stdout",
     "output_type": "stream",
     "text": [
      "['loss: 0.07823739945888519', 'accuracy: 0.9761166572570801']\n",
      "['val_loss: 0.08379082381725311', 'val_accuracy: 0.9746999740600586']\n",
      "\n",
      "Epoch 3\n"
     ]
    },
    {
     "name": "stderr",
     "output_type": "stream",
     "text": [
      "100%|██████████| 1875/1875 [00:28<00:00, 65.79it/s]\n"
     ]
    },
    {
     "name": "stdout",
     "output_type": "stream",
     "text": [
      "['loss: 0.05752904340624809', 'accuracy: 0.9821500182151794']\n",
      "['val_loss: 0.07922448962926865', 'val_accuracy: 0.9753000140190125']\n",
      "\n",
      "Epoch 4\n"
     ]
    },
    {
     "name": "stderr",
     "output_type": "stream",
     "text": [
      "100%|██████████| 1875/1875 [00:28<00:00, 66.09it/s]\n"
     ]
    },
    {
     "name": "stdout",
     "output_type": "stream",
     "text": [
      "['loss: 0.043886698782444', 'accuracy: 0.9862666726112366']\n",
      "['val_loss: 0.07873456180095673', 'val_accuracy: 0.9779999852180481']\n",
      "\n",
      "Epoch 5\n"
     ]
    },
    {
     "name": "stderr",
     "output_type": "stream",
     "text": [
      "100%|██████████| 1875/1875 [00:28<00:00, 65.06it/s]\n"
     ]
    },
    {
     "name": "stdout",
     "output_type": "stream",
     "text": [
      "['loss: 0.03534773737192154', 'accuracy: 0.9887166619300842']\n",
      "['val_loss: 0.08416744321584702', 'val_accuracy: 0.9739000201225281']\n",
      "\n",
      "Epoch 6\n"
     ]
    },
    {
     "name": "stderr",
     "output_type": "stream",
     "text": [
      "100%|██████████| 1875/1875 [00:29<00:00, 64.43it/s]\n"
     ]
    },
    {
     "name": "stdout",
     "output_type": "stream",
     "text": [
      "['loss: 0.02734677493572235', 'accuracy: 0.9910666942596436']\n",
      "['val_loss: 0.07794669270515442', 'val_accuracy: 0.9778000116348267']\n",
      "\n",
      "Epoch 7\n"
     ]
    },
    {
     "name": "stderr",
     "output_type": "stream",
     "text": [
      "100%|██████████| 1875/1875 [00:28<00:00, 65.37it/s]\n"
     ]
    },
    {
     "name": "stdout",
     "output_type": "stream",
     "text": [
      "['loss: 0.02301877923309803', 'accuracy: 0.9926166534423828']\n",
      "['val_loss: 0.0821480005979538', 'val_accuracy: 0.9776999950408936']\n",
      "\n",
      "Epoch 8\n"
     ]
    },
    {
     "name": "stderr",
     "output_type": "stream",
     "text": [
      "100%|██████████| 1875/1875 [00:27<00:00, 67.84it/s]\n"
     ]
    },
    {
     "name": "stdout",
     "output_type": "stream",
     "text": [
      "['loss: 0.021059434860944748', 'accuracy: 0.9931166768074036']\n",
      "['val_loss: 0.09563353657722473', 'val_accuracy: 0.9745000004768372']\n",
      "\n",
      "Epoch 9\n"
     ]
    },
    {
     "name": "stderr",
     "output_type": "stream",
     "text": [
      "100%|██████████| 1875/1875 [00:31<00:00, 60.25it/s]\n"
     ]
    },
    {
     "name": "stdout",
     "output_type": "stream",
     "text": [
      "['loss: 0.017020560801029205', 'accuracy: 0.9944000244140625']\n",
      "['val_loss: 0.07548291236162186', 'val_accuracy: 0.9793999791145325']\n",
      "\n"
     ]
    },
    {
     "data": {
      "image/png": "[encoded data removed]",
      "text/plain": [
       "<Figure size 640x480 with 1 Axes>"
      ]
     },
     "metadata": {},
     "output_type": "display_data"
    }
   ],
   "source": [
    "tf.keras.utils.set_random_seed(133742069)\n",
    "\n",
    "layers_list_new = [tf.keras.layers.Dense(784, activation='relu'),\n",
    "                   tf.keras.layers.Dense(256, activation='relu'),\n",
    "                   tf.keras.layers.Dense(10)]\n",
    "\n",
    "metrics_list_new = [tf.keras.metrics.Mean(name='loss'),\n",
    "                    tf.keras.metrics.CategoricalAccuracy(name='accuracy')]\n",
    "\n",
    "optimizer_new = tf.keras.optimizers.SGD(learning_rate=0.1)\n",
    "loss_fn_new   = tf.keras.losses.CategoricalCrossentropy(from_logits=True)\n",
    "\n",
    "model_new = MNIST(layers_list_new, metrics_list_new, optimizer_new, loss_fn_new)\n",
    "model_new(tf.keras.Input((784,)))\n",
    "model_new.summary()\n",
    "\n",
    "train_metrics_new, val_metrics_new = training_loop(model_new, ds_train_t, ds_test_t, epochs)\n",
    "\n",
    "visualization(train_metrics_new['loss'], \n",
    "              val_metrics_new['loss'], \n",
    "              train_metrics_new['accuracy'], \n",
    "              val_metrics_new['accuracy'])"
   ]
  },
  {
   "cell_type": "markdown",
   "metadata": {},
   "source": [
    "- by removing a layer and decreasing the remaining layer's number of neural units, it was possible to maintain (slightly increase) the accuracy"
   ]
  },
  {
   "cell_type": "code",
   "execution_count": 174,
   "metadata": {},
   "outputs": [
    {
     "name": "stdout",
     "output_type": "stream",
     "text": [
      "Model: \"mnist_43\"\n",
      "_________________________________________________________________\n",
      " Layer (type)                Output Shape              Param #   \n",
      "=================================================================\n",
      " dense_180 (Dense)           multiple                  615440    \n",
      "                                                                 \n",
      " dense_181 (Dense)           multiple                  200960    \n",
      "                                                                 \n",
      " dense_182 (Dense)           multiple                  2570      \n",
      "                                                                 \n",
      "=================================================================\n",
      "Total params: 818,974\n",
      "Trainable params: 818,970\n",
      "Non-trainable params: 4\n",
      "_________________________________________________________________\n",
      "Epoch 0\n"
     ]
    },
    {
     "name": "stderr",
     "output_type": "stream",
     "text": [
      "100%|██████████| 1875/1875 [00:21<00:00, 85.92it/s]\n"
     ]
    },
    {
     "name": "stdout",
     "output_type": "stream",
     "text": [
      "['loss: 0.28458502888679504', 'accuracy: 0.911216676235199']\n",
      "['val_loss: 0.14055655896663666', 'val_accuracy: 0.9562000036239624']\n",
      "\n",
      "Epoch 1\n"
     ]
    },
    {
     "name": "stderr",
     "output_type": "stream",
     "text": [
      "100%|██████████| 1875/1875 [00:26<00:00, 70.63it/s]\n"
     ]
    },
    {
     "name": "stdout",
     "output_type": "stream",
     "text": [
      "['loss: 0.11773578077554703', 'accuracy: 0.9646833539009094']\n",
      "['val_loss: 0.09469204396009445', 'val_accuracy: 0.9697999954223633']\n",
      "\n",
      "Epoch 2\n"
     ]
    },
    {
     "name": "stderr",
     "output_type": "stream",
     "text": [
      "100%|██████████| 1875/1875 [00:27<00:00, 68.83it/s]\n"
     ]
    },
    {
     "name": "stdout",
     "output_type": "stream",
     "text": [
      "['loss: 0.0810026153922081', 'accuracy: 0.9757500290870667']\n",
      "['val_loss: 0.07847408205270767', 'val_accuracy: 0.9739000201225281']\n",
      "\n",
      "Epoch 3\n"
     ]
    },
    {
     "name": "stderr",
     "output_type": "stream",
     "text": [
      "100%|██████████| 1875/1875 [00:24<00:00, 77.31it/s]\n"
     ]
    },
    {
     "name": "stdout",
     "output_type": "stream",
     "text": [
      "['loss: 0.05959463119506836', 'accuracy: 0.9820333123207092']\n",
      "['val_loss: 0.07074384391307831', 'val_accuracy: 0.977400004863739']\n",
      "\n",
      "Epoch 4\n"
     ]
    },
    {
     "name": "stderr",
     "output_type": "stream",
     "text": [
      "100%|██████████| 1875/1875 [00:26<00:00, 71.38it/s]\n"
     ]
    },
    {
     "name": "stdout",
     "output_type": "stream",
     "text": [
      "['loss: 0.0447608046233654', 'accuracy: 0.9871500134468079']\n",
      "['val_loss: 0.0685701072216034', 'val_accuracy: 0.9789999723434448']\n",
      "\n",
      "Epoch 5\n"
     ]
    },
    {
     "name": "stderr",
     "output_type": "stream",
     "text": [
      "100%|██████████| 1875/1875 [00:31<00:00, 59.40it/s]\n"
     ]
    },
    {
     "name": "stdout",
     "output_type": "stream",
     "text": [
      "['loss: 0.03369970619678497', 'accuracy: 0.9910833239555359']\n",
      "['val_loss: 0.06629490107297897', 'val_accuracy: 0.979200005531311']\n",
      "\n",
      "Epoch 6\n"
     ]
    },
    {
     "name": "stderr",
     "output_type": "stream",
     "text": [
      "100%|██████████| 1875/1875 [00:32<00:00, 58.02it/s]\n"
     ]
    },
    {
     "name": "stdout",
     "output_type": "stream",
     "text": [
      "['loss: 0.025715867057442665', 'accuracy: 0.9932666420936584']\n",
      "['val_loss: 0.06499172002077103', 'val_accuracy: 0.9803000092506409']\n",
      "\n",
      "Epoch 7\n"
     ]
    },
    {
     "name": "stderr",
     "output_type": "stream",
     "text": [
      "100%|██████████| 1875/1875 [00:39<00:00, 47.73it/s]\n"
     ]
    },
    {
     "name": "stdout",
     "output_type": "stream",
     "text": [
      "['loss: 0.01953621208667755', 'accuracy: 0.9954000115394592']\n",
      "['val_loss: 0.06592138856649399', 'val_accuracy: 0.9803000092506409']\n",
      "\n",
      "Epoch 8\n"
     ]
    },
    {
     "name": "stderr",
     "output_type": "stream",
     "text": [
      "100%|██████████| 1875/1875 [00:32<00:00, 57.19it/s]\n"
     ]
    },
    {
     "name": "stdout",
     "output_type": "stream",
     "text": [
      "['loss: 0.01430668868124485', 'accuracy: 0.9970666766166687']\n",
      "['val_loss: 0.06442376226186752', 'val_accuracy: 0.98089998960495']\n",
      "\n",
      "Epoch 9\n"
     ]
    },
    {
     "name": "stderr",
     "output_type": "stream",
     "text": [
      "100%|██████████| 1875/1875 [00:38<00:00, 48.78it/s]\n"
     ]
    },
    {
     "name": "stdout",
     "output_type": "stream",
     "text": [
      "['loss: 0.011202950961887836', 'accuracy: 0.99795001745224']\n",
      "['val_loss: 0.0662984848022461', 'val_accuracy: 0.9810000061988831']\n",
      "\n"
     ]
    },
    {
     "data": {
      "image/png": "[encoded data removed]",
      "text/plain": [
       "<Figure size 640x480 with 1 Axes>"
      ]
     },
     "metadata": {},
     "output_type": "display_data"
    }
   ],
   "source": [
    "tf.keras.utils.set_random_seed(133742069)\n",
    "\n",
    "layers_list_new = [tf.keras.layers.Dense(784, activation='relu'),\n",
    "                   tf.keras.layers.Dense(256, activation='relu'),\n",
    "                   tf.keras.layers.Dense(10)]\n",
    "\n",
    "metrics_list_new = [tf.keras.metrics.Mean(name='loss'),\n",
    "                    tf.keras.metrics.CategoricalAccuracy(name='accuracy')]\n",
    "\n",
    "optimizer_new = tf.keras.optimizers.SGD(learning_rate=0.05)\n",
    "loss_fn_new   = tf.keras.losses.CategoricalCrossentropy(from_logits=True)\n",
    "\n",
    "model_new = MNIST(layers_list_new, metrics_list_new, optimizer_new, loss_fn_new)\n",
    "model_new(tf.keras.Input((784,)))\n",
    "model_new.summary()\n",
    "\n",
    "train_metrics_new, val_metrics_new = training_loop(model_new, ds_train_t, ds_test_t, epochs)\n",
    "\n",
    "visualization(train_metrics_new['loss'], \n",
    "              val_metrics_new['loss'], \n",
    "              train_metrics_new['accuracy'], \n",
    "              val_metrics_new['accuracy'])"
   ]
  },
  {
   "cell_type": "markdown",
   "metadata": {},
   "source": [
    "- decreasing the learning rate to 0.05 slightly increased performance"
   ]
  },
  {
   "cell_type": "code",
   "execution_count": 181,
   "metadata": {},
   "outputs": [
    {
     "name": "stdout",
     "output_type": "stream",
     "text": [
      "Model: \"mnist_50\"\n",
      "_________________________________________________________________\n",
      " Layer (type)                Output Shape              Param #   \n",
      "=================================================================\n",
      " dense_203 (Dense)           multiple                  615440    \n",
      "                                                                 \n",
      " dense_204 (Dense)           multiple                  200960    \n",
      "                                                                 \n",
      " dense_205 (Dense)           multiple                  2570      \n",
      "                                                                 \n",
      "=================================================================\n",
      "Total params: 818,974\n",
      "Trainable params: 818,970\n",
      "Non-trainable params: 4\n",
      "_________________________________________________________________\n",
      "Epoch 0\n"
     ]
    },
    {
     "name": "stderr",
     "output_type": "stream",
     "text": [
      "100%|██████████| 1875/1875 [00:25<00:00, 74.80it/s]\n"
     ]
    },
    {
     "name": "stdout",
     "output_type": "stream",
     "text": [
      "['loss: 0.2869180738925934', 'accuracy: 0.9099833369255066']\n",
      "['val_loss: 0.16238336265087128', 'val_accuracy: 0.9456999897956848']\n",
      "\n",
      "Epoch 1\n"
     ]
    },
    {
     "name": "stderr",
     "output_type": "stream",
     "text": [
      "100%|██████████| 1875/1875 [00:33<00:00, 55.84it/s]\n"
     ]
    },
    {
     "name": "stdout",
     "output_type": "stream",
     "text": [
      "['loss: 0.11516700685024261', 'accuracy: 0.9646499752998352']\n",
      "['val_loss: 0.09377805888652802', 'val_accuracy: 0.9699000120162964']\n",
      "\n",
      "Epoch 2\n"
     ]
    },
    {
     "name": "stderr",
     "output_type": "stream",
     "text": [
      "100%|██████████| 1875/1875 [00:49<00:00, 38.05it/s]\n"
     ]
    },
    {
     "name": "stdout",
     "output_type": "stream",
     "text": [
      "['loss: 0.07854098826646805', 'accuracy: 0.9758999943733215']\n",
      "['val_loss: 0.07934113591909409', 'val_accuracy: 0.9740999937057495']\n",
      "\n",
      "Epoch 3\n"
     ]
    },
    {
     "name": "stderr",
     "output_type": "stream",
     "text": [
      "100%|██████████| 1875/1875 [00:35<00:00, 53.46it/s]\n"
     ]
    },
    {
     "name": "stdout",
     "output_type": "stream",
     "text": [
      "['loss: 0.05682062357664108', 'accuracy: 0.9827333092689514']\n",
      "['val_loss: 0.07518881559371948', 'val_accuracy: 0.9764000177383423']\n",
      "\n",
      "Epoch 4\n"
     ]
    },
    {
     "name": "stderr",
     "output_type": "stream",
     "text": [
      "100%|██████████| 1875/1875 [00:41<00:00, 45.62it/s]\n"
     ]
    },
    {
     "name": "stdout",
     "output_type": "stream",
     "text": [
      "['loss: 0.04198146238923073', 'accuracy: 0.9878666400909424']\n",
      "['val_loss: 0.06599350273609161', 'val_accuracy: 0.9794999957084656']\n",
      "\n",
      "Epoch 5\n"
     ]
    },
    {
     "name": "stderr",
     "output_type": "stream",
     "text": [
      "100%|██████████| 1875/1875 [00:36<00:00, 51.56it/s]\n"
     ]
    },
    {
     "name": "stdout",
     "output_type": "stream",
     "text": [
      "['loss: 0.03149552643299103', 'accuracy: 0.9910833239555359']\n",
      "['val_loss: 0.06491726636886597', 'val_accuracy: 0.9789000153541565']\n",
      "\n",
      "Epoch 6\n"
     ]
    },
    {
     "name": "stderr",
     "output_type": "stream",
     "text": [
      "100%|██████████| 1875/1875 [00:32<00:00, 58.11it/s]\n"
     ]
    },
    {
     "name": "stdout",
     "output_type": "stream",
     "text": [
      "['loss: 0.023611854761838913', 'accuracy: 0.9934999942779541']\n",
      "['val_loss: 0.06646980345249176', 'val_accuracy: 0.9789999723434448']\n",
      "\n",
      "Epoch 7\n"
     ]
    },
    {
     "name": "stderr",
     "output_type": "stream",
     "text": [
      "100%|██████████| 1875/1875 [00:30<00:00, 61.97it/s]\n"
     ]
    },
    {
     "name": "stdout",
     "output_type": "stream",
     "text": [
      "['loss: 0.01800161600112915', 'accuracy: 0.9948999881744385']\n",
      "['val_loss: 0.06493112444877625', 'val_accuracy: 0.9805999994277954']\n",
      "\n",
      "Epoch 8\n"
     ]
    },
    {
     "name": "stderr",
     "output_type": "stream",
     "text": [
      "100%|██████████| 1875/1875 [00:30<00:00, 62.43it/s]\n"
     ]
    },
    {
     "name": "stdout",
     "output_type": "stream",
     "text": [
      "['loss: 0.01588888093829155', 'accuracy: 0.9957833290100098']\n",
      "['val_loss: 0.07097965478897095', 'val_accuracy: 0.9786999821662903']\n",
      "\n",
      "Epoch 9\n"
     ]
    },
    {
     "name": "stderr",
     "output_type": "stream",
     "text": [
      "100%|██████████| 1875/1875 [00:29<00:00, 63.43it/s]\n"
     ]
    },
    {
     "name": "stdout",
     "output_type": "stream",
     "text": [
      "['loss: 0.012919923290610313', 'accuracy: 0.996566653251648']\n",
      "['val_loss: 0.0645638108253479', 'val_accuracy: 0.982200026512146']\n",
      "\n"
     ]
    },
    {
     "data": {
      "image/png": "[encoded data removed]",
      "text/plain": [
       "<Figure size 640x480 with 1 Axes>"
      ]
     },
     "metadata": {},
     "output_type": "display_data"
    }
   ],
   "source": [
    "\n",
    "tf.keras.utils.set_random_seed(133742069)\n",
    "\n",
    "layers_list_new = [tf.keras.layers.Dense(784, activation='relu'),\n",
    "                   tf.keras.layers.Dense(256, activation='relu'),\n",
    "                   tf.keras.layers.Dense(10)]\n",
    "\n",
    "metrics_list_new = [tf.keras.metrics.Mean(name='loss'),\n",
    "                    tf.keras.metrics.CategoricalAccuracy(name='accuracy')]\n",
    "\n",
    "optimizer_new = tf.keras.optimizers.SGD(learning_rate=0.07)\n",
    "loss_fn_new   = tf.keras.losses.CategoricalCrossentropy(from_logits=True)\n",
    "\n",
    "model_new = MNIST(layers_list_new, metrics_list_new, optimizer_new, loss_fn_new)\n",
    "model_new(tf.keras.Input((784,)))\n",
    "model_new.summary()\n",
    "\n",
    "train_metrics_new, val_metrics_new = training_loop(model_new, ds_train_t, ds_test_t, epochs)\n",
    "\n",
    "visualization(train_metrics_new['loss'], \n",
    "              val_metrics_new['loss'], \n",
    "              train_metrics_new['accuracy'], \n",
    "              val_metrics_new['accuracy'])"
   ]
  },
  {
   "cell_type": "markdown",
   "metadata": {},
   "source": [
    "- increasing the learning rate to 0.07 seemed to increase performance a tiny bit further"
   ]
  },
  {
   "cell_type": "code",
   "execution_count": null,
   "metadata": {},
   "outputs": [],
   "source": []
  }
 ],
 "metadata": {
  "kernelspec": {
   "display_name": "Python 3.10.8 64-bit",
   "language": "python",
   "name": "python3"
  },
  "language_info": {
   "codemirror_mode": {
    "name": "ipython",
    "version": 3
   },
   "file_extension": ".py",
   "mimetype": "text/x-python",
   "name": "python",
   "nbconvert_exporter": "python",
   "pygments_lexer": "ipython3",
   "version": "3.10.8"
  },
  "orig_nbformat": 4,
  "vscode": {
   "interpreter": {
    "hash": "e7370f93d1d0cde622a1f8e1c04877d8463912d04d973331ad4851f04de6915a"
   }
  }
 },
 "nbformat": 4,
 "nbformat_minor": 2
}
